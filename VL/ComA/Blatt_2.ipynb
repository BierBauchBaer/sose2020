{
 "cells": [
  {
   "cell_type": "markdown",
   "metadata": {},
   "source": [
    "## Arbeiten mit Listen"
   ]
  },
  {
   "cell_type": "markdown",
   "metadata": {},
   "source": [
    "Unter http://doc.sagemath.org/html/en/thematic_tutorials/tutorial-programming-python.html#lists gibt es ein Tutorial zu Listen in SageMath. Schauen Sie sich die wichtigsten Konzepte an.\n",
    "\n",
    "Listen kann man auf verschiedene Arten anlegen:"
   ]
  },
  {
   "cell_type": "code",
   "execution_count": 1,
   "metadata": {},
   "outputs": [
    {
     "data": {
      "text/plain": [
       "[1, 2, 3, 4, 5]"
      ]
     },
     "execution_count": 1,
     "metadata": {},
     "output_type": "execute_result"
    }
   ],
   "source": [
    "# Liste manuell anlegen\n",
    "[1,2,3,4,5]"
   ]
  },
  {
   "cell_type": "code",
   "execution_count": 2,
   "metadata": {},
   "outputs": [
    {
     "data": {
      "text/plain": [
       "[0, 1, 2, 3, 4, 5, 6, 7, 8, 9]"
      ]
     },
     "execution_count": 2,
     "metadata": {},
     "output_type": "execute_result"
    }
   ],
   "source": [
    "# Liste aufeinanderfolgender Zahlen von 0 bis 9(=10-1)\n",
    "[x for x in range(10)] "
   ]
  },
  {
   "cell_type": "code",
   "execution_count": 13,
   "metadata": {},
   "outputs": [
    {
     "data": {
      "text/plain": [
       "[2, 4, 6, 8, 10, 12, 14, 16, 18, 20]"
      ]
     },
     "execution_count": 13,
     "metadata": {},
     "output_type": "execute_result"
    }
   ],
   "source": [
    "# Liste mit geraden Zahlen bis 20\n",
    "[2*x for x in range(1,11)]"
   ]
  },
  {
   "cell_type": "markdown",
   "metadata": {},
   "source": [
    "Mit eckigen Klammern lässt sich auf einzelne Listenelemente zugreifen.\n",
    "\n",
    "**Achtung**: Die Indizierung beginnt bei 0."
   ]
  },
  {
   "cell_type": "code",
   "execution_count": 14,
   "metadata": {},
   "outputs": [
    {
     "name": "stdout",
     "output_type": "stream",
     "text": [
      "Liste: [1, 2, 3, 4, 5, 6, 7, 8, 9, 10]\n",
      "Länge der Liste: 10\n",
      "Erstes Element: 1\n",
      "Viertes Element: 4\n",
      "Letztes Element: 10\n"
     ]
    }
   ],
   "source": [
    "# Liste mit Zahlen von 1 bis 10\n",
    "L = [x for x in range(1,11)]\n",
    "print(\"Liste:\", L)\n",
    "print(\"Länge der Liste:\", len(L))\n",
    "print(\"Erstes Element:\", L[0])\n",
    "print(\"Viertes Element:\", L[4-1])\n",
    "print(\"Letztes Element:\", L[-1])"
   ]
  },
  {
   "cell_type": "markdown",
   "metadata": {},
   "source": [
    "Für Listen gibt es noch viele weitere Operationen. Speichern Sie sich die Liste als Variable ab mit\n",
    "   \n",
    "    L = [x for x in range(10)]\n",
    "   \n",
    "geben Sie \"<code>L.</code>\" in ein Eingabefeld ein und drücken Sie die Tabulator-Taste. Alle für Listen definierten Funktionen werden nun in einem Drop-Down-Menü angezeigt. Über\n",
    "    \n",
    "    help(L.remove)\n",
    "    \n",
    "bekommen Sie den jeweiligen Hilfetext angezeigt.\n",
    "\n",
    "Ein kurzes Beispiel:"
   ]
  },
  {
   "cell_type": "code",
   "execution_count": 5,
   "metadata": {},
   "outputs": [
    {
     "name": "stdout",
     "output_type": "stream",
     "text": [
      "New list: [0, 1, 2, 2, 4]\n",
      "Element 2 occurs 2 times\n"
     ]
    }
   ],
   "source": [
    "L = [x for x in range(5)]  # Liste mit Einträgen 0 bis 4 anlegen\n",
    "L.remove(3)                # 3 aus der Liste löschen\n",
    "L.append(2)                # 2 zur Liste hinzufügen\n",
    "L.sort()                   # Liste sortieren\n",
    "print(\"New list:\", L)\n",
    "print(\"Element 2 occurs\", L.count(2), \"times\")"
   ]
  },
  {
   "cell_type": "markdown",
   "metadata": {},
   "source": [
    "Um über alle Elemente einer Liste zu iterieren bieten sich <code>for</code>-Schleifen an. Diese haben prinzipiell die Struktur\n",
    "\n",
    "    for <element> in <iterable object>:\n",
    "        do something for <element>\n",
    "        do something else for <element>\n",
    "\n",
    "Die Einrückung bestimmt dabei den Schleifenrumpf. \n",
    "\n",
    "In folgendem Beispiel wird die Summe aller Listeneinträge berechnet:"
   ]
  },
  {
   "cell_type": "code",
   "execution_count": 6,
   "metadata": {},
   "outputs": [
    {
     "name": "stdout",
     "output_type": "stream",
     "text": [
      "The sum is 45\n"
     ]
    }
   ],
   "source": [
    "L = [x for x in range(10)]\n",
    "s = 0\n",
    "for x in L:\n",
    "    s = s+x\n",
    "print(\"The sum is\", s)"
   ]
  },
  {
   "cell_type": "markdown",
   "metadata": {},
   "source": [
    "## While-Schleifen\n",
    "\n",
    "**Merke**: Die bereits bekannten <code>for</code>-Schleifen sind meist nur dann nützlich, wenn die Anzahl der Schleifeniterationen vorher bereits bekannt ist. Im Beispiel oben ist dies der Fall. Das würde aber nicht mehr funktionieren, wenn die Liste während der Schleife modifiziert wird.\n",
    "\n",
    "Im folgenden Beispiel sollen alle durch 2 und 3 teilbaren Zahlen aus der Liste gelöscht werden:"
   ]
  },
  {
   "cell_type": "code",
   "execution_count": 7,
   "metadata": {},
   "outputs": [
    {
     "name": "stdout",
     "output_type": "stream",
     "text": [
      "The new list is [1, 3, 5, 7, 9, 11]\n"
     ]
    }
   ],
   "source": [
    "L = [x for x in range(13)]\n",
    "i = 0\n",
    "for x in L:\n",
    "    # Teste, ob Zahl durch 2 oder 3 teilbar ist\n",
    "    if x%2==0 or x%3==0:  \n",
    "        # Entferne Eintrag aus der Liste\n",
    "        L.remove(x)\n",
    "print(\"The new list is\", L)"
   ]
  },
  {
   "cell_type": "markdown",
   "metadata": {},
   "source": [
    "Offensichtlich ist dies falsch! Die Zahlen 3 und 9 sind durch 3 teilbar, wurden aber von der Schleife übersprungen. Das liegt daran, dass vorher die Elemente 2 bzw. 8 entfernt wurden und somit nehmen 3 und 9 ihre Plätze ein. Im nächsten Schleifendurchlauf zeigt der Iterator auf das darauffolgende Listenelement (4 und 10)."
   ]
  },
  {
   "cell_type": "markdown",
   "metadata": {},
   "source": [
    "**Merke**: Ist die Anzahl der Schleifeniterationen vor Erreichen der Schleife nicht bekannt, dann sollte man auf <code>while</code>-Schleifen zurückgreifen.\n",
    "\n",
    "Die allgemeine Syntax lautet\n",
    "\n",
    "    while <condition>:\n",
    "        do something\n",
    "        do something else\n",
    "\n",
    "Die Bedingung sollte entweder <code>True</code> oder <code>False</code> ergeben. Die Einrückung bestimmt wieder den Schleifenrumpf.\n",
    "\n",
    "Einige Beispiele für Bedingungen, die im Schleifenkopf überprüft werden können sind:"
   ]
  },
  {
   "cell_type": "code",
   "execution_count": 8,
   "metadata": {},
   "outputs": [
    {
     "name": "stdout",
     "output_type": "stream",
     "text": [
      "False\n",
      "True\n",
      "True\n",
      "False\n"
     ]
    }
   ],
   "source": [
    "print(1==3)\n",
    "print(2==2)\n",
    "print(3<5)\n",
    "print(3>=5)"
   ]
  },
  {
   "cell_type": "markdown",
   "metadata": {},
   "source": [
    "**Achtung**: Falls man falsch programmiert hat, kann es auch dazu kommen, dass <code>condition</code> immer <code>True</code> ist. Dann landet man in einer Endlosschleife und Sage nimmt keine weiteren Befehle mehr an. In diesem Fall kann man den die aktuelle Berechnung über das Menü \"Kernel -> Interrupt\" abbrechen.\n",
    "\n",
    "Betrachten wir das Beispiel von oben. Wir wollen die durch 2 und 3 teilbaren Elemente aus einer Liste löschen:"
   ]
  },
  {
   "cell_type": "code",
   "execution_count": 9,
   "metadata": {},
   "outputs": [
    {
     "name": "stdout",
     "output_type": "stream",
     "text": [
      "The new list is [1, 5, 7, 11]\n"
     ]
    }
   ],
   "source": [
    "L = [x for x in range(13)]\n",
    "i=0 # Iterationsindex (bei 0 beginnend)\n",
    "while i<len(L):\n",
    "    x = L[i]\n",
    "    \n",
    "    # Der Modulooperator % gibt den Rest bei ganzzahliger Division zurück\n",
    "    if x%2==0 or x%3==0:\n",
    "        # Entferne Eintrag aus der Liste\n",
    "        L.remove(x)\n",
    "    else:\n",
    "        # Springe zum nächsten Eintrag, falls nichts gelöscht wurde\n",
    "        i=i+1             \n",
    "print(\"The new list is\", L)"
   ]
  },
  {
   "cell_type": "markdown",
   "metadata": {},
   "source": [
    "## Eigene Funktionen definieren\n",
    "\n",
    "Möchte man einzelne Code-Blöcke öfter verwenden, kann man diese auch in eine eigene Funktion auslagern. Die Syntax für Funktionen lautet\n",
    "\n",
    "    def <name>(<argument 1>, <argument 2>, ...):\n",
    "        do something\n",
    "        return <value>\n",
    "        \n",
    "Folgendes Beispiel berechnet die Fakultät der übergebenen Zahl:"
   ]
  },
  {
   "cell_type": "code",
   "execution_count": 10,
   "metadata": {},
   "outputs": [],
   "source": [
    "def faculty(n):\n",
    "    res = 1\n",
    "    for x in range(1,n+1): # Iteriert über alle Zahlen 1 bis n\n",
    "        res = res*x;       # Zwischenwert draufmultiplizieren\n",
    "    return res             # Rückgabe des Ergebnisses"
   ]
  },
  {
   "cell_type": "code",
   "execution_count": 11,
   "metadata": {},
   "outputs": [
    {
     "name": "stdout",
     "output_type": "stream",
     "text": [
      "Fakultät von 3 ist 6\n",
      "Fakultät von 5 ist 120\n",
      "Fakultät von 10 ist 3628800\n"
     ]
    }
   ],
   "source": [
    "print(\"Fakultät von 3 ist\", faculty(3))\n",
    "print(\"Fakultät von 5 ist\", faculty(5))\n",
    "print(\"Fakultät von 10 ist\", faculty(10))"
   ]
  }
 ],
 "metadata": {
  "kernelspec": {
   "display_name": "SageMath 9.0",
   "language": "sage",
   "name": "sagemath"
  },
  "language_info": {
   "codemirror_mode": {
    "name": "ipython",
    "version": 3
   },
   "file_extension": ".py",
   "mimetype": "text/x-python",
   "name": "python",
   "nbconvert_exporter": "python",
   "pygments_lexer": "ipython3",
   "version": "3.7.3"
  }
 },
 "nbformat": 4,
 "nbformat_minor": 2
}
